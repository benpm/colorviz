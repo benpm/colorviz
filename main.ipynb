{
 "cells": [
  {
   "cell_type": "code",
   "execution_count": 35,
   "metadata": {},
   "outputs": [
    {
     "data": {
      "application/vnd.jupyter.widget-view+json": {
       "model_id": "863daa6361aa4a4e8604c74aad7c29f7",
       "version_major": 2,
       "version_minor": 0
      },
      "text/plain": [
       "Renderer(camera=PerspectiveCamera(children=(DirectionalLight(color='white', intensity=0.6, position=(50.0, -18…"
      ]
     },
     "metadata": {},
     "output_type": "display_data"
    }
   ],
   "source": [
    "import meshplot as mp\n",
    "import numpy as np\n",
    "\n",
    "import xml.etree.ElementTree as ET\n",
    "\n",
    "def load_color_profile(file_path):\n",
    "    tree = ET.parse(file_path)\n",
    "    root = tree.getroot()\n",
    "    vertices = [float(x) for x in root.find(\"Tags\").find(\"gamutBoundaryDescType\").find(\"Vertices\").find(\"PCSValues\").text.split()]\n",
    "    vertices = np.reshape(vertices, (-1, 3))\n",
    "    print(vertices)\n",
    "    triangles = np.array([[int(x) for x in t.text.split()] for t in root.find(\"Tags\").find(\"gamutBoundaryDescType\").find(\"Triangles\")])\n",
    "    print(triangles)\n",
    "    return vertices, triangles\n",
    "\n",
    "def load_gam_file(file_path):\n",
    "    with open(file_path, \"r\") as f:\n",
    "        lines = f.readlines()\n",
    "        vertices = []\n",
    "        triangles = []\n",
    "        begin_count = 0\n",
    "        is_read = False\n",
    "        for line in lines:\n",
    "            tokens = line.split()\n",
    "            if not tokens: \n",
    "                continue\n",
    "            if tokens[0] == \"BEGIN_DATA\":\n",
    "                begin_count += 1\n",
    "                is_read = True\n",
    "                continue\n",
    "            elif tokens[0] == \"END_DATA\":\n",
    "                is_read = False\n",
    "                continue\n",
    "            if begin_count == 1 and is_read:\n",
    "                vertices.append([float(x) for x in tokens[1:]])\n",
    "            elif begin_count == 2 and is_read:\n",
    "                triangles.append([int(x) for x in tokens])\n",
    "    return np.array(vertices), np.array(triangles)\n",
    "\n",
    "\n",
    "# https://www.easyrgb.com/en/math.php\n",
    "XYZ_TRISTIMULUS = {'A':{2: [1.09850, 1.00000, 0.35585], 10: [1.11144, 1.00000, 0.35200]},   #\tIncandescent/tungsten\n",
    "                   'C':{2: [0.98074, 1.00000, 1.18232], 10: [.97285, 1.00000, 1.16145]},    # Old daylight\n",
    "                   'D50':{2: [0.96422, 1.00000, 0.82521], 10: [0.96720, 1.00000, 0.81427]}, # ICC profile PCS\n",
    "                   'D55':{2: [0.95682, 1.00000, 0.92149], 10: [0.95799, 1.00000, 0.90926]}, # Mid-morning/daylight\n",
    "                   'D65':{2: [0.95047, 1.00000, 1.08883], 10: [0.94811, 1.00000, 1.07304]}, # Daylight, sRGB, Adobe-RGB\n",
    "                   'D75':{2: [0.94972, 1.00000, 1.22638], 10: [0.94416, 1.00000, 1.20641]}, # North sky daylight\n",
    "                   'F2':{2: [0.99187, 1.00000, 0.67395], 10: [1.03280, 1.00000, 0.69026]},  # Cool white fluorescent\n",
    "                   'F7':{2: [0.95044, 1.00000, 1.08755], 10: [0.95792, 1.00000, 1.07687]}}  # Daylight fluorescent\n",
    "                   \n",
    "                                      \n",
    "\n",
    "\n",
    "\n",
    "def lab_to_xyz(lab_colors, illuminant='D65', observer=2):\n",
    "    # Convert Lab to XYZ for multiple colors\n",
    "    L, a, b = lab_colors[:, 0], lab_colors[:, 1], lab_colors[:, 2]\n",
    "    y = (L + 16) / 116\n",
    "    x = a / 500 + y\n",
    "    z = y - b / 200\n",
    "    x3, y3, z3 = x ** 3, y ** 3, z ** 3\n",
    "    delta = 6 / 29\n",
    "    x = np.where(x > delta, x3, (x - 16 / 116) / 7.787)\n",
    "    y = np.where(y > delta, y3, (y - 16 / 116) / 7.787)\n",
    "    z = np.where(z > delta, z3, (z - 16 / 116) / 7.787)\n",
    "    x *= XYZ_TRISTIMULUS[illuminant][observer][0]\n",
    "    y *= XYZ_TRISTIMULUS[illuminant][observer][1]\n",
    "    z *= XYZ_TRISTIMULUS[illuminant][observer][2]\n",
    "    return np.column_stack([x, y, z])\n",
    "\n",
    "def xyz_to_rgb(xyz_colors):\n",
    "    # Convert XYZ to RGB for multiple colors\n",
    "    m = np.array([[3.2406, -1.5372, -0.4986],\n",
    "                  [-0.9689, 1.8758, 0.0415],\n",
    "                  [0.0557, -0.2040, 1.0570]])\n",
    "    return np.dot(xyz_colors, m.T)\n",
    "\n",
    "def lab_to_rgb(lab_colors, illuminant='D65', observer=2):\n",
    "    # Convert Lab to RGB for multiple colors\n",
    "    xyz_colors = lab_to_xyz(lab_colors)\n",
    "    rgb_colors = xyz_to_rgb(xyz_colors)\n",
    "    # Clip RGB values to valid range [0, 1] for multiple colors\n",
    "    return np.clip(rgb_colors, 0, 1)\n",
    "        \n",
    "\n",
    "def main():\n",
    "    # vertices, triangles = load_color_profile(\"profiles/sRGB_D65_MAT.xml\")\n",
    "    vertices, triangles = load_gam_file(\"profiles/AdobeRGB1998.gam\")\n",
    "    colors = lab_to_rgb(vertices)\n",
    "    mp.plot(vertices, triangles,c=colors, shading={  \"flat\": True})\n",
    "\n",
    "if __name__ == \"__main__\":\n",
    "    main()"
   ]
  },
  {
   "cell_type": "code",
   "execution_count": 10,
   "metadata": {},
   "outputs": [
    {
     "ename": "SyntaxError",
     "evalue": "invalid syntax (2494350585.py, line 1)",
     "output_type": "error",
     "traceback": [
      "\u001b[1;36m  Cell \u001b[1;32mIn[10], line 1\u001b[1;36m\u001b[0m\n\u001b[1;33m    import\u001b[0m\n\u001b[1;37m           ^\u001b[0m\n\u001b[1;31mSyntaxError\u001b[0m\u001b[1;31m:\u001b[0m invalid syntax\n"
     ]
    }
   ],
   "source": [
    "import "
   ]
  }
 ],
 "metadata": {
  "kernelspec": {
   "display_name": "Python 3",
   "language": "python",
   "name": "python3"
  },
  "language_info": {
   "codemirror_mode": {
    "name": "ipython",
    "version": 3
   },
   "file_extension": ".py",
   "mimetype": "text/x-python",
   "name": "python",
   "nbconvert_exporter": "python",
   "pygments_lexer": "ipython3",
   "version": "3.11.4"
  }
 },
 "nbformat": 4,
 "nbformat_minor": 2
}
