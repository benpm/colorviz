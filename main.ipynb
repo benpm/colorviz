{
 "cells": [
  {
   "cell_type": "code",
   "execution_count": 7,
   "metadata": {},
   "outputs": [
    {
     "data": {
      "application/vnd.jupyter.widget-view+json": {
       "model_id": "8fed0488d36f4c84a922fbda1015e812",
       "version_major": 2,
       "version_minor": 0
      },
      "text/plain": [
       "Renderer(camera=PerspectiveCamera(children=(DirectionalLight(color='white', intensity=0.6, position=(50.0, -18…"
      ]
     },
     "metadata": {},
     "output_type": "display_data"
    }
   ],
   "source": [
    "import meshplot as mp\n",
    "import numpy as np\n",
    "\n",
    "import xml.etree.ElementTree as ET\n",
    "\n",
    "def load_color_profile(file_path):\n",
    "    tree = ET.parse(file_path)\n",
    "    root = tree.getroot()\n",
    "    vertices = [float(x) for x in root.find(\"Tags\").find(\"gamutBoundaryDescType\").find(\"Vertices\").find(\"PCSValues\").text.split()]\n",
    "    vertices = np.reshape(vertices, (-1, 3))\n",
    "    print(vertices)\n",
    "    triangles = np.array([[int(x) for x in t.text.split()] for t in root.find(\"Tags\").find(\"gamutBoundaryDescType\").find(\"Triangles\")])\n",
    "    print(triangles)\n",
    "    return vertices, triangles\n",
    "\n",
    "def load_gam_file(file_path):\n",
    "    with open(file_path, \"r\") as f:\n",
    "        lines = f.readlines()\n",
    "        vertices = []\n",
    "        triangles = []\n",
    "        begin_count = 0\n",
    "        is_read = False\n",
    "        for line in lines:\n",
    "            tokens = line.split()\n",
    "            if not tokens: \n",
    "                continue\n",
    "            if tokens[0] == \"BEGIN_DATA\":\n",
    "                begin_count += 1\n",
    "                is_read = True\n",
    "                continue\n",
    "            elif tokens[0] == \"END_DATA\":\n",
    "                is_read = False\n",
    "                continue\n",
    "            if begin_count == 1 and is_read:\n",
    "                vertices.append([float(x) for x in tokens[1:]])\n",
    "            elif begin_count == 2 and is_read:\n",
    "                triangles.append([int(x) for x in tokens])\n",
    "    return np.array(vertices), np.array(triangles)\n",
    "\n",
    "\n",
    "def create_colors(vertices):\n",
    "    colors = np.zeros((vertices.shape[0], 3))\n",
    "    # convert CIE L*a*b* to RGB\n",
    "    for i, vertex in enumerate(vertices):\n",
    "        L, a, b = vertex\n",
    "        # convert to XYZ\n",
    "        Y = (L + 16) / 116\n",
    "        X = a / 500 + Y\n",
    "        Z = Y - b / 200\n",
    "        X = 0.95047 * (X ** 3 if X ** 3 > 0.008856 else (X - 16 / 116) / 7.787)\n",
    "        Y = 1.00000 * (Y ** 3 if Y ** 3 > 0.008856 else (Y - 16 / 116) / 7.787)\n",
    "        Z = 1.08883 * (Z ** 3 if Z ** 3 > 0.008856 else (Z - 16 / 116) / 7.787)\n",
    "        # convert to RGB\n",
    "        R = X * 3.2406 + Y * -1.5372 + Z * -0.4986\n",
    "        G = X * -0.9689 + Y * 1.8758 + Z * 0.0415\n",
    "        B = X * 0.0557 + Y * -0.2040 + Z * 1.0570\n",
    "        R = (12.92*R) if R <= 0.0031308 else 1.055 * (R ** (1 / 2.4)) - 0.055\n",
    "        G = (12.92*G) if G <= 0.0031308 else 1.055 * (G ** (1 / 2.4)) - 0.055\n",
    "        B = (12.92*B) if B <= 0.0031308 else 1.055 * (B ** (1 / 2.4)) - 0.055\n",
    "        colors[i] = [R, G, B]\n",
    "    return colors\n",
    "        \n",
    "\n",
    "def main():\n",
    "    # vertices, triangles = load_color_profile(\"profiles/sRGB_D65_MAT.xml\")\n",
    "    vertices, triangles = load_gam_file(\"profiles/AdobeRGB1998.gam\")\n",
    "    colors = create_colors(vertices)\n",
    "    mp.plot(vertices, triangles,c=colors, return_plot=True)\n",
    "\n",
    "if __name__ == \"__main__\":\n",
    "    main()"
   ]
  },
  {
   "cell_type": "code",
   "execution_count": 8,
   "metadata": {},
   "outputs": [
    {
     "ename": "SyntaxError",
     "evalue": "invalid syntax (2494350585.py, line 1)",
     "output_type": "error",
     "traceback": [
      "\u001b[1;36m  Cell \u001b[1;32mIn[8], line 1\u001b[1;36m\u001b[0m\n\u001b[1;33m    import\u001b[0m\n\u001b[1;37m           ^\u001b[0m\n\u001b[1;31mSyntaxError\u001b[0m\u001b[1;31m:\u001b[0m invalid syntax\n"
     ]
    }
   ],
   "source": [
    "import "
   ]
  }
 ],
 "metadata": {
  "kernelspec": {
   "display_name": "Python 3",
   "language": "python",
   "name": "python3"
  },
  "language_info": {
   "codemirror_mode": {
    "name": "ipython",
    "version": 3
   },
   "file_extension": ".py",
   "mimetype": "text/x-python",
   "name": "python",
   "nbconvert_exporter": "python",
   "pygments_lexer": "ipython3",
   "version": "3.11.4"
  }
 },
 "nbformat": 4,
 "nbformat_minor": 2
}
