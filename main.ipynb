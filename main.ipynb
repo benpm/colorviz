{
 "cells": [
  {
   "cell_type": "code",
   "execution_count": 3,
   "metadata": {},
   "outputs": [
    {
     "name": "stdout",
     "output_type": "stream",
     "text": [
      "[[0.9504 1.     1.0889]\n",
      " [0.9504 1.     1.0889]\n",
      " [0.9504 1.     1.0889]\n",
      " ...\n",
      " [0.     0.     0.    ]\n",
      " [0.     0.     0.    ]\n",
      " [0.     0.     0.    ]]\n",
      "[[  1   2  19]\n",
      " [  2   3  20]\n",
      " [  3   4  21]\n",
      " ...\n",
      " [448 466 465]\n",
      " [449 467 466]\n",
      " [450 468 467]]\n"
     ]
    },
    {
     "data": {
      "application/vnd.jupyter.widget-view+json": {
       "model_id": "b528aa928a9749d3a0cf33456531527d",
       "version_major": 2,
       "version_minor": 0
      },
      "text/plain": [
       "Renderer(camera=PerspectiveCamera(children=(DirectionalLight(color='white', intensity=0.6, position=(0.4751999…"
      ]
     },
     "metadata": {},
     "output_type": "display_data"
    }
   ],
   "source": [
    "import meshplot as mp\n",
    "import numpy as np\n",
    "\n",
    "import xml.etree.ElementTree as ET\n",
    "\n",
    "def load_color_profile(file_path):\n",
    "    tree = ET.parse(file_path)\n",
    "    root = tree.getroot()\n",
    "    vertices = [float(x) for x in root.find(\"Tags\").find(\"gamutBoundaryDescType\").find(\"Vertices\").find(\"PCSValues\").text.split()]\n",
    "    vertices = np.reshape(vertices, (-1, 3))\n",
    "    print(vertices)\n",
    "    triangles = np.array([[int(x) for x in t.text.split()] for t in root.find(\"Tags\").find(\"gamutBoundaryDescType\").find(\"Triangles\")])\n",
    "    print(triangles)\n",
    "    return vertices, triangles\n",
    "\n",
    "def main():\n",
    "    vertices, triangles = load_color_profile(\"profiles/sRGB_D65_MAT.xml\")\n",
    "    mp.plot(vertices, triangles, return_plot=True, shading={\"flat\": False, \"wireframe\": True})\n",
    "\n",
    "if __name__ == \"__main__\":\n",
    "    main()"
   ]
  },
  {
   "cell_type": "code",
   "execution_count": null,
   "metadata": {},
   "outputs": [],
   "source": [
    "import "
   ]
  }
 ],
 "metadata": {
  "kernelspec": {
   "display_name": "Python 3",
   "language": "python",
   "name": "python3"
  },
  "language_info": {
   "codemirror_mode": {
    "name": "ipython",
    "version": 3
   },
   "file_extension": ".py",
   "mimetype": "text/x-python",
   "name": "python",
   "nbconvert_exporter": "python",
   "pygments_lexer": "ipython3",
   "version": "3.11.4"
  }
 },
 "nbformat": 4,
 "nbformat_minor": 2
}
